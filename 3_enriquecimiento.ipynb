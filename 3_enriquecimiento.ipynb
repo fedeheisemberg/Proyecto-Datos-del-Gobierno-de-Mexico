{
 "cells": [
  {
   "cell_type": "code",
   "execution_count": 1,
   "id": "59a2e8cc-cbe7-4653-b29b-af5127e1d21c",
   "metadata": {},
   "outputs": [],
   "source": [
    "%matplotlib inline\n",
    "import pandas as pd\n"
   ]
  },
  {
   "cell_type": "markdown",
   "id": "88fb4a37-3543-44e9-9aaa-238046d850f9",
   "metadata": {},
   "source": [
    "## Empezamos con una expansión de datos que tenemos, fecha por ejemplo\n",
    "\n"
   ]
  },
  {
   "cell_type": "code",
   "execution_count": 3,
   "id": "604f39a2-1eb3-49eb-9c9e-915e05222539",
   "metadata": {},
   "outputs": [
    {
     "data": {
      "text/html": [
       "<div>\n",
       "<style scoped>\n",
       "    .dataframe tbody tr th:only-of-type {\n",
       "        vertical-align: middle;\n",
       "    }\n",
       "\n",
       "    .dataframe tbody tr th {\n",
       "        vertical-align: top;\n",
       "    }\n",
       "\n",
       "    .dataframe thead th {\n",
       "        text-align: right;\n",
       "    }\n",
       "</style>\n",
       "<table border=\"1\" class=\"dataframe\">\n",
       "  <thead>\n",
       "    <tr style=\"text-align: right;\">\n",
       "      <th></th>\n",
       "      <th>NUM BEN</th>\n",
       "      <th>BENEFICIARIO</th>\n",
       "      <th>RFC</th>\n",
       "      <th>FACTURA</th>\n",
       "      <th>CONTRATO</th>\n",
       "      <th>CONCEPTO</th>\n",
       "      <th>TIPO</th>\n",
       "      <th># OP</th>\n",
       "      <th>FECHA</th>\n",
       "      <th>IMPORTE</th>\n",
       "      <th>SHEET</th>\n",
       "    </tr>\n",
       "  </thead>\n",
       "  <tbody>\n",
       "    <tr>\n",
       "      <th>0</th>\n",
       "      <td>110152</td>\n",
       "      <td>LLANTAS Y SERVICIOS SERNA ANAHUAC,S.A. DE C.V.</td>\n",
       "      <td>LSS841015DV3</td>\n",
       "      <td>LLS AF8458-158008-3972</td>\n",
       "      <td>OT. 20204373</td>\n",
       "      <td>REEMPLAZO E INSTALACION DE AMORTIGUADORES (DEL...</td>\n",
       "      <td>TR</td>\n",
       "      <td>1019110.0</td>\n",
       "      <td>2020-12-11</td>\n",
       "      <td>14911.80</td>\n",
       "      <td>GASTOS VARIOS</td>\n",
       "    </tr>\n",
       "    <tr>\n",
       "      <th>1</th>\n",
       "      <td>110152</td>\n",
       "      <td>LLANTAS Y SERVICIOS SERNA ANAHUAC,S.A. DE C.V.</td>\n",
       "      <td>LSS841015DV3</td>\n",
       "      <td>LLS PF6916-158008-4041</td>\n",
       "      <td>OT. 20204425</td>\n",
       "      <td>REEMPLAZO E INSTALACION DE OCHO BIRLOS Y NUEVE...</td>\n",
       "      <td>TR</td>\n",
       "      <td>1019110.0</td>\n",
       "      <td>2020-12-11</td>\n",
       "      <td>2528.80</td>\n",
       "      <td>GASTOS VARIOS</td>\n",
       "    </tr>\n",
       "    <tr>\n",
       "      <th>2</th>\n",
       "      <td>110152</td>\n",
       "      <td>LLANTAS Y SERVICIOS SERNA ANAHUAC,S.A. DE C.V.</td>\n",
       "      <td>LSS841015DV3</td>\n",
       "      <td>LLS PF6917-158008-3975</td>\n",
       "      <td>OT. 20204376</td>\n",
       "      <td>REEMPLAZO DE DOS RINES  (17). PATRIMONIO 80383...</td>\n",
       "      <td>TR</td>\n",
       "      <td>1019110.0</td>\n",
       "      <td>2020-12-11</td>\n",
       "      <td>8500.02</td>\n",
       "      <td>GASTOS VARIOS</td>\n",
       "    </tr>\n",
       "    <tr>\n",
       "      <th>3</th>\n",
       "      <td>110152</td>\n",
       "      <td>LLANTAS Y SERVICIOS SERNA ANAHUAC,S.A. DE C.V.</td>\n",
       "      <td>LSS841015DV3</td>\n",
       "      <td>LLS PF7004-158008-3971</td>\n",
       "      <td>OT. 20204374</td>\n",
       "      <td>REEMPLAZO DE  DOS RINES  (14). PATRIMONIO 8007...</td>\n",
       "      <td>TR</td>\n",
       "      <td>1019110.0</td>\n",
       "      <td>2020-12-11</td>\n",
       "      <td>2400.01</td>\n",
       "      <td>GASTOS VARIOS</td>\n",
       "    </tr>\n",
       "    <tr>\n",
       "      <th>4</th>\n",
       "      <td>110152</td>\n",
       "      <td>LLANTAS Y SERVICIOS SERNA ANAHUAC,S.A. DE C.V.</td>\n",
       "      <td>LSS841015DV3</td>\n",
       "      <td>LLS PF7137-158008-4554</td>\n",
       "      <td>OT. 20205130</td>\n",
       "      <td>REEMPLAZO E INSTALACION DE RIN 14. PATRIMONIO ...</td>\n",
       "      <td>TR</td>\n",
       "      <td>299001496.0</td>\n",
       "      <td>2020-12-23</td>\n",
       "      <td>1537.00</td>\n",
       "      <td>GASTOS VARIOS</td>\n",
       "    </tr>\n",
       "  </tbody>\n",
       "</table>\n",
       "</div>"
      ],
      "text/plain": [
       "   NUM BEN                                    BENEFICIARIO           RFC  \\\n",
       "0   110152  LLANTAS Y SERVICIOS SERNA ANAHUAC,S.A. DE C.V.  LSS841015DV3   \n",
       "1   110152  LLANTAS Y SERVICIOS SERNA ANAHUAC,S.A. DE C.V.  LSS841015DV3   \n",
       "2   110152  LLANTAS Y SERVICIOS SERNA ANAHUAC,S.A. DE C.V.  LSS841015DV3   \n",
       "3   110152  LLANTAS Y SERVICIOS SERNA ANAHUAC,S.A. DE C.V.  LSS841015DV3   \n",
       "4   110152  LLANTAS Y SERVICIOS SERNA ANAHUAC,S.A. DE C.V.  LSS841015DV3   \n",
       "\n",
       "                  FACTURA      CONTRATO  \\\n",
       "0  LLS AF8458-158008-3972  OT. 20204373   \n",
       "1  LLS PF6916-158008-4041  OT. 20204425   \n",
       "2  LLS PF6917-158008-3975  OT. 20204376   \n",
       "3  LLS PF7004-158008-3971  OT. 20204374   \n",
       "4  LLS PF7137-158008-4554  OT. 20205130   \n",
       "\n",
       "                                            CONCEPTO TIPO         # OP  \\\n",
       "0  REEMPLAZO E INSTALACION DE AMORTIGUADORES (DEL...   TR    1019110.0   \n",
       "1  REEMPLAZO E INSTALACION DE OCHO BIRLOS Y NUEVE...   TR    1019110.0   \n",
       "2  REEMPLAZO DE DOS RINES  (17). PATRIMONIO 80383...   TR    1019110.0   \n",
       "3  REEMPLAZO DE  DOS RINES  (14). PATRIMONIO 8007...   TR    1019110.0   \n",
       "4  REEMPLAZO E INSTALACION DE RIN 14. PATRIMONIO ...   TR  299001496.0   \n",
       "\n",
       "        FECHA   IMPORTE          SHEET  \n",
       "0  2020-12-11  14911.80  GASTOS VARIOS  \n",
       "1  2020-12-11   2528.80  GASTOS VARIOS  \n",
       "2  2020-12-11   8500.02  GASTOS VARIOS  \n",
       "3  2020-12-11   2400.01  GASTOS VARIOS  \n",
       "4  2020-12-23   1537.00  GASTOS VARIOS  "
      ]
     },
     "execution_count": 3,
     "metadata": {},
     "output_type": "execute_result"
    }
   ],
   "source": [
    "compras_df=pd.read_csv('data/clean_compras.csv')\n",
    "\n",
    "compras_df.head()"
   ]
  },
  {
   "cell_type": "code",
   "execution_count": 4,
   "id": "ed6ac313-45ab-4bca-a039-a00f0211420d",
   "metadata": {},
   "outputs": [
    {
     "data": {
      "text/plain": [
       "NUM BEN           int64\n",
       "BENEFICIARIO     object\n",
       "RFC              object\n",
       "FACTURA          object\n",
       "CONTRATO         object\n",
       "CONCEPTO         object\n",
       "TIPO             object\n",
       "# OP            float64\n",
       "FECHA            object\n",
       "IMPORTE         float64\n",
       "SHEET            object\n",
       "dtype: object"
      ]
     },
     "execution_count": 4,
     "metadata": {},
     "output_type": "execute_result"
    }
   ],
   "source": [
    "compras_df.dtypes"
   ]
  },
  {
   "cell_type": "code",
   "execution_count": 5,
   "id": "0040cb0a-8fc1-4849-adb6-391a8dd86cf7",
   "metadata": {},
   "outputs": [],
   "source": [
    "compras_df['FECHA'] = pd.to_datetime(compras_df['FECHA'])"
   ]
  },
  {
   "cell_type": "code",
   "execution_count": 8,
   "id": "9f411666-dfc1-4758-bc54-b6178ed79341",
   "metadata": {},
   "outputs": [],
   "source": [
    "import datetime as dt\n",
    "compras_df['DIA'] = compras_df['FECHA'].dt.day\n",
    "compras_df['MES'] = compras_df['FECHA'].dt.month\n",
    "compras_df['YEAR'] = compras_df['FECHA'].dt.year"
   ]
  },
  {
   "cell_type": "code",
   "execution_count": null,
   "id": "14e6abf1-5a46-4ac3-9072-9933a0997175",
   "metadata": {},
   "outputs": [],
   "source": []
  },
  {
   "cell_type": "markdown",
   "id": "c1f20af6-1c45-4ec7-a472-c7020fc266b9",
   "metadata": {},
   "source": [
    "## Proyectemos unas variables contra otras"
   ]
  },
  {
   "cell_type": "code",
   "execution_count": 11,
   "id": "e3cf75c2-77d5-41b4-9e26-98f911e20b68",
   "metadata": {},
   "outputs": [],
   "source": [
    "beneficiario_sales=compras_df['BENEFICIARIO'].value_counts().to_dict()"
   ]
  },
  {
   "cell_type": "code",
   "execution_count": 12,
   "id": "d10c91e1-2525-45ec-810c-d966860ef33e",
   "metadata": {},
   "outputs": [
    {
     "data": {
      "text/plain": [
       "['CAMARA MEXICANA DE LA INDUSTRIA DE LA CONSTRUCCION',\n",
       " 'AUTOKAM REGIOMONTANA,S.A.DE C.V.',\n",
       " 'CAR ONE MONTERREY, S.A. DE C.V.',\n",
       " 'PEREZ RIOS RAMIRO',\n",
       " 'S.I.M.E.P.R.O.D.E.']"
      ]
     },
     "execution_count": 12,
     "metadata": {},
     "output_type": "execute_result"
    }
   ],
   "source": [
    "list(beneficiario_sales.keys())[0:5]"
   ]
  },
  {
   "cell_type": "code",
   "execution_count": 15,
   "id": "464ab23f-3bcc-4918-965b-c265ad82be29",
   "metadata": {},
   "outputs": [],
   "source": [
    "compras_df['BENEFICIARIO_SALES']=compras_df['BENEFICIARIO'].apply(lambda x: beneficiario_sales[x])"
   ]
  },
  {
   "cell_type": "code",
   "execution_count": 16,
   "id": "e8e6f090-1dca-4f38-9c09-b6df05a66a57",
   "metadata": {},
   "outputs": [],
   "source": [
    "sheet_mean_compras=compras_df.groupby('SHEET')['IMPORTE'].mean()"
   ]
  },
  {
   "cell_type": "code",
   "execution_count": 17,
   "id": "acfa781a-207b-4d33-b64f-45536547242f",
   "metadata": {},
   "outputs": [
    {
     "data": {
      "text/plain": [
       "SHEET\n",
       "COMUNICACION              109705.343662\n",
       "CONTRATISTAS Y FDO FED    474566.765787\n",
       "GASTOS VARIOS             881659.731797\n",
       "SERV PPROF                229592.166667\n",
       "SERV. PERS.                59623.405217\n",
       "Name: IMPORTE, dtype: float64"
      ]
     },
     "execution_count": 17,
     "metadata": {},
     "output_type": "execute_result"
    }
   ],
   "source": [
    "sheet_mean_compras"
   ]
  },
  {
   "cell_type": "code",
   "execution_count": 18,
   "id": "e7c30443-8e58-4736-9efe-86015ef7d0d2",
   "metadata": {},
   "outputs": [
    {
     "data": {
      "text/plain": [
       "{'COMUNICACION': 109705.34366197183,\n",
       " 'CONTRATISTAS Y FDO FED': 474566.76578729285,\n",
       " 'GASTOS VARIOS': 881659.7317971016,\n",
       " 'SERV PPROF': 229592.16666666666,\n",
       " 'SERV. PERS.': 59623.40521739131}"
      ]
     },
     "execution_count": 18,
     "metadata": {},
     "output_type": "execute_result"
    }
   ],
   "source": [
    "sheet_mean_compras.to_dict()"
   ]
  },
  {
   "cell_type": "code",
   "execution_count": 19,
   "id": "576062cf-6762-4d96-83fb-73364d7102d7",
   "metadata": {},
   "outputs": [],
   "source": [
    "compras_df['IMPORTE_GASTO_PROMEDIO']=compras_df['SHEET'].apply(lambda x: sheet_mean_compras[x])"
   ]
  },
  {
   "cell_type": "code",
   "execution_count": null,
   "id": "a1424053-2fba-48ab-b5e4-e5f4f6aed1e4",
   "metadata": {},
   "outputs": [],
   "source": []
  },
  {
   "cell_type": "markdown",
   "id": "36c9abf1-8807-4089-a159-4d166f159956",
   "metadata": {},
   "source": [
    "## Traernos información externa, enriquecer los datos usando una tool de páginas de linkedin\n"
   ]
  },
  {
   "cell_type": "code",
   "execution_count": 20,
   "id": "525245bf-e324-43dc-93af-02ea4303b0c0",
   "metadata": {},
   "outputs": [],
   "source": [
    "pd.DataFrame(compras_df['BENEFICIARIO'].unique()).to_csv('data/unique_beneficiarios.csv', index=None)"
   ]
  },
  {
   "cell_type": "code",
   "execution_count": 21,
   "id": "c0deb806-f840-4483-b8ba-f85b85e44787",
   "metadata": {},
   "outputs": [],
   "source": [
    "#Cargar\n",
    "linkedin_mty = pd.read_csv('data/linkedin_mty.csv')"
   ]
  },
  {
   "cell_type": "code",
   "execution_count": 22,
   "id": "5579c770-0673-4a52-832a-b4578140392e",
   "metadata": {},
   "outputs": [],
   "source": [
    "has_site = {}\n",
    "for i, ele in linkedin_mty.fillna(True).iterrows():\n",
    "    has_site[ele['query']] = True if ele['error'] == True else False"
   ]
  },
  {
   "cell_type": "code",
   "execution_count": 23,
   "id": "a8a4629b-a4c6-467a-910f-c3953a5ab547",
   "metadata": {},
   "outputs": [],
   "source": [
    "compras_df['HAS_LINKEDIN_SITE'] = compras_df['BENEFICIARIO'].apply(lambda x: has_site[x.replace('  ', ' ')])"
   ]
  },
  {
   "cell_type": "code",
   "execution_count": 24,
   "id": "bf49359b-1802-46c0-84fe-00dbf66c3d5b",
   "metadata": {},
   "outputs": [
    {
     "data": {
      "text/plain": [
       "0       True\n",
       "1       True\n",
       "2       True\n",
       "3       True\n",
       "4       True\n",
       "        ... \n",
       "1535    True\n",
       "1536    True\n",
       "1537    True\n",
       "1538    True\n",
       "1539    True\n",
       "Name: HAS_LINKEDIN_SITE, Length: 1540, dtype: bool"
      ]
     },
     "execution_count": 24,
     "metadata": {},
     "output_type": "execute_result"
    }
   ],
   "source": [
    "compras_df['HAS_LINKEDIN_SITE']"
   ]
  },
  {
   "cell_type": "code",
   "execution_count": 25,
   "id": "c6ca343e-82a1-4ecd-a25c-9995a83a3a38",
   "metadata": {},
   "outputs": [
    {
     "data": {
      "text/plain": [
       "HAS_LINKEDIN_SITE\n",
       "True     1392\n",
       "False     148\n",
       "Name: count, dtype: int64"
      ]
     },
     "execution_count": 25,
     "metadata": {},
     "output_type": "execute_result"
    }
   ],
   "source": [
    "compras_df['HAS_LINKEDIN_SITE'].value_counts()"
   ]
  },
  {
   "cell_type": "code",
   "execution_count": 26,
   "id": "1e096599-6452-431b-bb8b-c790038eab7c",
   "metadata": {},
   "outputs": [],
   "source": [
    "compras_df.to_csv('data/compras_df_enriched.csv', index=None)"
   ]
  },
  {
   "cell_type": "code",
   "execution_count": null,
   "id": "05cad155-9d9e-43f3-85c0-7629ff72edd3",
   "metadata": {},
   "outputs": [],
   "source": []
  }
 ],
 "metadata": {
  "kernelspec": {
   "display_name": "Python 3 (ipykernel)",
   "language": "python",
   "name": "python3"
  },
  "language_info": {
   "codemirror_mode": {
    "name": "ipython",
    "version": 3
   },
   "file_extension": ".py",
   "mimetype": "text/x-python",
   "name": "python",
   "nbconvert_exporter": "python",
   "pygments_lexer": "ipython3",
   "version": "3.11.7"
  }
 },
 "nbformat": 4,
 "nbformat_minor": 5
}
